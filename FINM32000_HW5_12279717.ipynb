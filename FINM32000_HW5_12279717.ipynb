{
 "cells": [
  {
   "cell_type": "markdown",
   "metadata": {},
   "source": [
    "# Question 1\n",
    "## c)-d)"
   ]
  },
  {
   "cell_type": "code",
   "execution_count": 1,
   "metadata": {},
   "outputs": [],
   "source": [
    "import numpy as np\n",
    "from tqdm import tqdm"
   ]
  },
  {
   "cell_type": "code",
   "execution_count": 2,
   "metadata": {},
   "outputs": [],
   "source": [
    "class Dynamics:\n",
    "    pass"
   ]
  },
  {
   "cell_type": "code",
   "execution_count": 3,
   "metadata": {},
   "outputs": [],
   "source": [
    "hw5dynamics=Dynamics()\n",
    "hw5dynamics.kappa = 0.472\n",
    "hw5dynamics.alpha = 4.4\n",
    "hw5dynamics.sigma = 0.368\n",
    "hw5dynamics.S0 = 106.9\n",
    "hw5dynamics.r = 0.05"
   ]
  },
  {
   "cell_type": "code",
   "execution_count": 4,
   "metadata": {},
   "outputs": [],
   "source": [
    "class Contract:\n",
    "    pass"
   ]
  },
  {
   "cell_type": "code",
   "execution_count": 5,
   "metadata": {},
   "outputs": [],
   "source": [
    "hw5contract=Contract()\n",
    "hw5contract.K1 = 103.2\n",
    "hw5contract.T1 = 0.5\n",
    "hw5contract.T2 = 0.75"
   ]
  },
  {
   "cell_type": "code",
   "execution_count": 6,
   "metadata": {},
   "outputs": [],
   "source": [
    "class MC:\n",
    "    pass"
   ]
  },
  {
   "cell_type": "code",
   "execution_count": 7,
   "metadata": {},
   "outputs": [],
   "source": [
    "hw5MC=MC()\n",
    "hw5MC.N = 100   # Number of timesteps on each path\n",
    "hw5MC.M = 100000  # Number of paths.  Change this if necessary.\n",
    "hw5MC.epsilon = 0.01  # For the dC/dS calculation\n",
    "hw5MC.seed = 0  # Seeding the random number generator with a specified number helps make the calculations reproducible"
   ]
  },
  {
   "cell_type": "code",
   "execution_count": 8,
   "metadata": {},
   "outputs": [],
   "source": [
    "def pricer_oilcall_OU_MC(contract,dynamics,MC):\n",
    "\n",
    "    np.random.seed(MC.seed)  #seed the random number generator\n",
    "    \n",
    "    kappa, alpha, sigma, S0, r = dynamics.kappa, dynamics.alpha, dynamics.sigma, dynamics.S0, dynamics.r\n",
    "    K1, T1, T2 = contract.K1, contract.T1, contract.T2\n",
    "    N, M, epsilon, seed = MC.N, MC.M, MC.epsilon, MC.seed\n",
    "    \n",
    "    call_price_sim1 = np.zeros(M)\n",
    "    call_price_sim2 = np.zeros(M)\n",
    "    \n",
    "    for i in tqdm(range(M)):\n",
    "        \n",
    "        Z = np.random.normal(0,1,N)\n",
    "        X1 = np.log(S0)\n",
    "        X2 = np.log(S0+epsilon)\n",
    "        deltat = T1/N\n",
    "        \n",
    "        for j in range(N):\n",
    "            X1 = X1 + kappa*(alpha - X1)*deltat + sigma*Z[j]*np.sqrt(deltat)\n",
    "            X2 = X2 + kappa*(alpha - X2)*deltat + sigma*Z[j]*np.sqrt(deltat)\n",
    "        \n",
    "        ST1 = np.exp(X1)\n",
    "        FT1 = np.exp(np.exp(-kappa*(T2-T1))*np.log(ST1) + (1-np.exp(-kappa*(T2-T1)))*alpha + sigma**2/(4*kappa)*(1-np.exp(-2*kappa*(T2-T1))))\n",
    "        call_price_sim1[i] = np.exp(-r*T1)*np.maximum(FT1-K1,0)\n",
    "        \n",
    "        ST2 = np.exp(X2)\n",
    "        FT2 = np.exp(np.exp(-kappa*(T2-T1))*np.log(ST2) + (1-np.exp(-kappa*(T2-T1)))*alpha + sigma**2/(4*kappa)*(1-np.exp(-2*kappa*(T2-T1))))\n",
    "        call_price_sim2[i] = np.exp(-r*T1)*np.maximum(FT2-K1,0)\n",
    "        \n",
    "    \n",
    "    call_price = np.mean(call_price_sim1)\n",
    "    call_price2 = np.mean(call_price_sim2)\n",
    "    standard_error = np.std(call_price_sim1)/np.sqrt(M)      \n",
    "    call_delta = (call_price2 - call_price)/epsilon   \n",
    "        \n",
    "        \n",
    "        \n",
    "    return(call_price, standard_error, call_delta)\n",
    "        "
   ]
  },
  {
   "cell_type": "code",
   "execution_count": 9,
   "metadata": {},
   "outputs": [
    {
     "name": "stderr",
     "output_type": "stream",
     "text": [
      "100%|████████████████████████████████████████████████████████████████████████| 100000/100000 [00:57<00:00, 1737.63it/s]\n"
     ]
    }
   ],
   "source": [
    "(call_price, standard_error, call_delta) = pricer_oilcall_OU_MC(hw5contract,hw5dynamics,hw5MC)"
   ]
  },
  {
   "cell_type": "code",
   "execution_count": 10,
   "metadata": {},
   "outputs": [
    {
     "name": "stdout",
     "output_type": "stream",
     "text": [
      "Call Price: 7.8214 \n",
      "Standard Error: 0.0419 \n",
      "Delta: 0.3444\n"
     ]
    }
   ],
   "source": [
    "print(\"Call Price: {:.4f} \\nStandard Error: {:.4f} \\nDelta: {:.4f}\".format(call_price, standard_error, call_delta))"
   ]
  },
  {
   "cell_type": "markdown",
   "metadata": {},
   "source": [
    "# Question 2\n",
    "## a)"
   ]
  },
  {
   "cell_type": "code",
   "execution_count": 11,
   "metadata": {},
   "outputs": [],
   "source": [
    "from scipy import stats\n",
    "\n",
    "# S is the (spot) price of the underlying\n",
    "# Assumes zero dividends\n",
    "\n",
    "def BS(sigma,S,r,K,T):\n",
    "    F = S*np.exp(r*T)\n",
    "    sd = sigma*np.sqrt(T)\n",
    "    if sd==0:\n",
    "        return np.maximum(np.exp(-r*T)*(F-K),0)\n",
    "    d1 = np.log(F/K)/sd+sd/2\n",
    "    d2 = np.log(F/K)/sd-sd/2\n",
    "    return np.exp(-r*T)*(F*stats.norm.cdf(d1)-K*stats.norm.cdf(d2))\n",
    "\n",
    "def BSdelta(sigma,S,r,K,T):\n",
    "    F = S*np.exp(r*T)\n",
    "    sd = sigma*np.sqrt(T)\n",
    "    if sd==0:\n",
    "        return (1 if F>K else 0)\n",
    "    d1 = np.log(F/K)/sd+sd/2\n",
    "    return stats.norm.cdf(d1)\n"
   ]
  },
  {
   "cell_type": "code",
   "execution_count": 12,
   "metadata": {},
   "outputs": [],
   "source": [
    "hw5p2dynamics=Dynamics()\n",
    "hw5p2dynamics.S0 = 100\n",
    "hw5p2dynamics.r = 0\n",
    "hw5p2dynamics.impliedsigma = 0.30\n",
    "hw5p2dynamics.mu = 0.05\n",
    "hw5p2dynamics.realizedsigma = 0.40"
   ]
  },
  {
   "cell_type": "code",
   "execution_count": 13,
   "metadata": {},
   "outputs": [],
   "source": [
    "hw5p2contract=Contract()\n",
    "hw5p2contract.K = 100 \n",
    "hw5p2contract.T = 25/252    #option has 25 trading days to expiry"
   ]
  },
  {
   "cell_type": "code",
   "execution_count": 14,
   "metadata": {},
   "outputs": [],
   "source": [
    "class HedgingStrategy:\n",
    "    pass"
   ]
  },
  {
   "cell_type": "code",
   "execution_count": 15,
   "metadata": {},
   "outputs": [],
   "source": [
    "hw5p2strategy = HedgingStrategy()\n",
    "hw5p2strategy.dt = 1/252\n",
    "hw5p2strategy.numRebalances = 20   #This is called \"N\" in the homework assignment.  Running trading strategy for 20 days. \n",
    "\n",
    "#Time 0 is when we enter the trading strategy\n",
    "#Time (numRebalances*dt) is when we exit the trading strategy\n",
    "#Therefore numRebalances and dt should be chosen such that numRebalances*dt <= option expiry\n",
    "#If the inequality is strict (numRebalances*dt < option expiry), then that simply\n",
    "#means that the date when you exit out of the strategy (closing all option and stock positions) \n",
    "#is a date when the option has not yet expired.\n"
   ]
  },
  {
   "cell_type": "code",
   "execution_count": 16,
   "metadata": {},
   "outputs": [],
   "source": [
    "hw5p2MC=MC()\n",
    "hw5p2MC.M = 10000              # Number of paths  \n",
    "hw5p2MC.dt = hw5p2strategy.dt # time step  \n",
    "hw5p2MC.seed = 0              # Seeding the random number generator with a specified number helps make the calculations reproducible"
   ]
  },
  {
   "cell_type": "code",
   "execution_count": 18,
   "metadata": {},
   "outputs": [
    {
     "name": "stderr",
     "output_type": "stream",
     "text": [
      "100%|███████████████████████████████████████████████████████████████████████████| 10000/10000 [00:25<00:00, 389.00it/s]\n"
     ]
    },
    {
     "data": {
      "text/plain": [
       "1.0246923995724533"
      ]
     },
     "execution_count": 18,
     "metadata": {},
     "output_type": "execute_result"
    }
   ],
   "source": [
    "results = simulate_deltahedgedCall_GBM(hw5p2contract,hw5p2dynamics,hw5p2strategy,hw5p2MC)\n",
    "np.mean(results)"
   ]
  },
  {
   "cell_type": "code",
   "execution_count": 19,
   "metadata": {},
   "outputs": [
    {
     "name": "stderr",
     "output_type": "stream",
     "text": [
      "100%|███████████████████████████████████████████████████████████████████████████| 10000/10000 [00:25<00:00, 385.73it/s]\n"
     ]
    },
    {
     "data": {
      "text/plain": [
       "-0.9660449123021956"
      ]
     },
     "execution_count": 19,
     "metadata": {},
     "output_type": "execute_result"
    }
   ],
   "source": [
    "hw5p2dynamics.realizedsigma = 0.20\n",
    "results = simulate_deltahedgedCall_GBM(hw5p2contract,hw5p2dynamics,hw5p2strategy,hw5p2MC)\n",
    "np.mean(results)"
   ]
  },
  {
   "cell_type": "markdown",
   "metadata": {},
   "source": [
    "## b)"
   ]
  },
  {
   "cell_type": "code",
   "execution_count": 20,
   "metadata": {},
   "outputs": [
    {
     "name": "stderr",
     "output_type": "stream",
     "text": [
      "100%|███████████████████████████████████████████████████████████████████████████| 10000/10000 [00:28<00:00, 348.04it/s]\n"
     ]
    },
    {
     "data": {
      "text/plain": [
       "1.0221510308217534"
      ]
     },
     "execution_count": 20,
     "metadata": {},
     "output_type": "execute_result"
    }
   ],
   "source": [
    "hw5p2dynamics.mu = -0.05\n",
    "hw5p2dynamics.realizedsigma = 0.40\n",
    "results = simulate_deltahedgedCall_GBM(hw5p2contract,hw5p2dynamics,hw5p2strategy,hw5p2MC)\n",
    "np.mean(results)"
   ]
  },
  {
   "cell_type": "code",
   "execution_count": 21,
   "metadata": {},
   "outputs": [
    {
     "name": "stderr",
     "output_type": "stream",
     "text": [
      "100%|███████████████████████████████████████████████████████████████████████████| 10000/10000 [00:26<00:00, 383.35it/s]\n"
     ]
    },
    {
     "data": {
      "text/plain": [
       "-0.9644590679835167"
      ]
     },
     "execution_count": 21,
     "metadata": {},
     "output_type": "execute_result"
    }
   ],
   "source": [
    "hw5p2dynamics.realizedsigma = 0.20\n",
    "results = simulate_deltahedgedCall_GBM(hw5p2contract,hw5p2dynamics,hw5p2strategy,hw5p2MC)\n",
    "np.mean(results)"
   ]
  },
  {
   "cell_type": "code",
   "execution_count": null,
   "metadata": {},
   "outputs": [],
   "source": []
  }
 ],
 "metadata": {
  "kernelspec": {
   "display_name": "Python 3",
   "language": "python",
   "name": "python3"
  },
  "language_info": {
   "codemirror_mode": {
    "name": "ipython",
    "version": 3
   },
   "file_extension": ".py",
   "mimetype": "text/x-python",
   "name": "python",
   "nbconvert_exporter": "python",
   "pygments_lexer": "ipython3",
   "version": "3.8.10"
  }
 },
 "nbformat": 4,
 "nbformat_minor": 4
}
